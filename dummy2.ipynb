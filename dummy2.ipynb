{
  "nbformat": 4,
  "nbformat_minor": 0,
  "metadata": {
    "colab": {
      "provenance": []
    },
    "kernelspec": {
      "name": "python3",
      "display_name": "Python 3"
    },
    "language_info": {
      "name": "python"
    }
  },
  "cells": [
    {
      "cell_type": "code",
      "execution_count": null,
      "metadata": {
        "id": "dT6y9eQPXKod"
      },
      "outputs": [],
      "source": [
        "import pandas as pd\n",
        "df = pd.read_csv(\"/content/drive/MyDrive/Titanic-Dataset.csv\")\n",
        "df.head()"
      ]
    },
    {
      "cell_type": "code",
      "source": [
        "fare = df['Fare']\n",
        "age = df[['Pclass','Age']]\n",
        "gender = df[['Survived','Sex']]\n",
        "fare.head()\n",
        "gender.head()"
      ],
      "metadata": {
        "id": "Crprp9nPXR91"
      },
      "execution_count": null,
      "outputs": []
    },
    {
      "cell_type": "code",
      "source": [
        "fare_100 = df[df['Fare'] > 100]\n",
        "first_class = df[df['Pclass'] ==1]\n",
        "under_18 = df[(df['Age'] < 18) & (df['Sex'] == 'female') ]\n",
        "c_or_s = df[(df['Embarked'] == 'C') | (df['Embarked'] == 'S')]\n",
        "first_second_class = df[(df['Pclass'].isin([1,2]))]\n",
        "fare_100.head()\n",
        "first_class.head()\n",
        "under_18.head()\n",
        "c_or_s.head()\n",
        "first_second_class.head()"
      ],
      "metadata": {
        "id": "gXk3-tg0YDqL"
      },
      "execution_count": null,
      "outputs": []
    },
    {
      "cell_type": "code",
      "source": [
        "median_age = df['Age'].median()\n",
        "df['Age'] = df['Age'].fillna(median_age)\n",
        "far_per_year = df['Fare']/df['Age']\n",
        "df['Fare_per_year'] = far_per_year\n",
        "high_far_age = df[df['Fare_per_year'] > 5 ]\n",
        "high_far_age_srt = high_far_age.sort_values(by=['Fare_per_year'],ascending = False)\n",
        "result = high_far_age_srt[['Name','Fare_per_year']]\n",
        "result.head()"
      ],
      "metadata": {
        "id": "lxVX4qRBX6eX"
      },
      "execution_count": null,
      "outputs": []
    },
    {
      "cell_type": "code",
      "source": [
        "Far_per_class = df['Fare']/df['Pclass']\n",
        "df['Fare_per_class'] = Far_per_class\n",
        "adult_male = df[(df['Sex'] == 'male') & (df['Age'] >= 18)]\n",
        "adult_male_srt = adult_male.sort_values(by=['Fare_per_class'],ascending = False)\n",
        "result = df[['Name','Age','Fare_per_class']]\n",
        "result.head()"
      ],
      "metadata": {
        "id": "yI2iNJwEYPi2"
      },
      "execution_count": null,
      "outputs": []
    },
    {
      "cell_type": "code",
      "source": [
        "total_Fare = df['Fare'].sum()\n",
        "p_class_11 = df[df['Pclass'] == 1]\n",
        "p_class_11_total = p_class_11['Fare'].sum()\n",
        "\n",
        "p_class_22 =df[df['Pclass'] == 2]\n",
        "p_class_33 =df[df['Pclass'] == 3]\n",
        "p_class_22_total = p_class_22['Fare'].sum()\n",
        "p_class_33_total = p_class_33['Fare'].sum()\n",
        "fare_totals = [p_class_11_total,p_class_22_total,p_class_33_total]\n",
        "fare_revenue= [p_class_11_total/total_Fare,p_class_22_total/total_Fare,p_class_33_total/total_Fare]\n",
        "fare_revenue"
      ],
      "metadata": {
        "id": "6NCSK-RSYZsf"
      },
      "execution_count": null,
      "outputs": []
    },
    {
      "cell_type": "code",
      "source": [
        "def cat_age(age):\n",
        "  if age < 18:\n",
        "    return \"child\"\n",
        "  elif age < 65:\n",
        "    return \"adult\"\n",
        "  else:\n",
        "    return \"senior\"\n",
        "df['age_group'] = df['Age'].apply(cat_age)"
      ],
      "metadata": {
        "id": "Q5yPj6QgYlJj"
      },
      "execution_count": null,
      "outputs": []
    },
    {
      "cell_type": "code",
      "source": [
        "total_passengers = len(df)\n",
        "no_of_passengers = df['age_group'].value_counts()\n",
        "passenger_in_each = no_of_passengers/total_passengers\n",
        "proportion = passenger_in_each * 100\n",
        "proportion"
      ],
      "metadata": {
        "id": "HXz1d_KsYmxO"
      },
      "execution_count": null,
      "outputs": []
    }
  ]
}